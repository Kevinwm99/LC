{
 "metadata": {
  "language_info": {
   "codemirror_mode": {
    "name": "ipython",
    "version": 3
   },
   "file_extension": ".py",
   "mimetype": "text/x-python",
   "name": "python",
   "nbconvert_exporter": "python",
   "pygments_lexer": "ipython3",
   "version": "3.6.10-final"
  },
  "orig_nbformat": 2,
  "kernelspec": {
   "name": "Python 3.6.10 64-bit",
   "display_name": "Python 3.6.10 64-bit",
   "metadata": {
    "interpreter": {
     "hash": "93567997320a41260cba541b0b0fc558b64d7e06ab3ccf74c021b635184135f0"
    }
   }
  }
 },
 "nbformat": 4,
 "nbformat_minor": 2,
 "cells": [
  {
   "source": [
    "Given an encoded string, return its decoded string.\n",
    "\n",
    "The encoding rule is: k\\[encoded_string\\], where the encoded_string inside the square brackets is being repeated exactly k times. Note that k is guaranteed to be a positive integer.\n",
    "\n",
    "You may assume that the input string is always valid; No extra white spaces, square brackets are well-formed, etc.\n",
    "\n",
    "Furthermore, you may assume that the original data does not contain any digits and that digits are only for those repeat numbers, k. For example, there won't be input like 3a or 2\\[4\\].\n",
    "\n",
    " \n",
    "\n",
    "Example 1:\n",
    "\n",
    "Input: s = \"3\\[a\\]2\\[bc\\]\"\n",
    "\n",
    "Output: \"aaabcbc\"\n",
    "\n",
    "\n",
    "Example 2:\n",
    "\n",
    "Input: s = \"3\\[a2\\[c\\]\\]\"\n",
    "\n",
    "Output: \"accaccacc\"\n",
    "\n",
    "\n",
    "Example 3:\n",
    "\n",
    "Input: s = \"2\\[abc\\]3\\[cd\\]ef\"\n",
    "\n",
    "Output: \"abcabccdcdcdef\"\n",
    "\n",
    "\n",
    "Example 4:\n",
    "\n",
    "Input: s = \"abc3\\[cd\\]xyz\"\n",
    "\n",
    "Output: \"abccdcdcdxyz\""
   ],
   "cell_type": "markdown",
   "metadata": {}
  },
  {
   "cell_type": "code",
   "execution_count": null,
   "metadata": {},
   "outputs": [],
   "source": []
  },
  {
   "cell_type": "code",
   "execution_count": 120,
   "metadata": {},
   "outputs": [],
   "source": [
    "def decodeString(s):\n",
    "    stack = []\n",
    "    for ch in s:\n",
    "        if ch != ']':\n",
    "            stack.append(ch)\n",
    "        else:\n",
    "            repeat_seq = ''\n",
    "            while stack and stack[-1]!='[':\n",
    "                repeat_seq = stack.pop()+repeat_seq\n",
    "            if stack: stack.pop()\n",
    "            repeat_num = ''\n",
    "            while stack and stack[-1].isdigit():\n",
    "                repeat_num=stack.pop()+repeat_num\n",
    "            stack.append(repeat_seq*int(repeat_num))\n",
    "    return ''.join(stack)"
   ]
  },
  {
   "cell_type": "code",
   "execution_count": 121,
   "metadata": {},
   "outputs": [
    {
     "output_type": "stream",
     "name": "stdout",
     "text": [
      "z\n['3']\n3\n['zzz']\ny\n['zzz', '2', '[', '2']\n2\n['zzz', '2', '[', 'yy']\njk\n['zzz', '2', '[', 'yy', 'p', 'q', '4', '[', '2']\n2\n['zzz', '2', '[', 'yy', 'p', 'q', '4', '[', 'jkjk']\nf\n['zzz', '2', '[', 'yy', 'p', 'q', '4', '[', 'jkjk', 'e', '1']\n1\n['zzz', '2', '[', 'yy', 'p', 'q', '4', '[', 'jkjk', 'e', 'f']\njkjkef\n['zzz', '2', '[', 'yy', 'p', 'q', '4']\n4\n['zzz', '2', '[', 'yy', 'p', 'q', 'jkjkefjkjkefjkjkefjkjkef']\nyypqjkjkefjkjkefjkjkefjkjkef\n['zzz', '2']\n2\n['zzz', 'yypqjkjkefjkjkefjkjkefjkjkefyypqjkjkefjkjkefjkjkefjkjkef']\n"
     ]
    },
    {
     "output_type": "execute_result",
     "data": {
      "text/plain": [
       "'zzzyypqjkjkefjkjkefjkjkefjkjkefyypqjkjkefjkjkefjkjkefjkjkefef'"
      ]
     },
     "metadata": {},
     "execution_count": 121
    }
   ],
   "source": [
    "decodeString(\"3[z]2[2[y]pq4[2[jk]e1[f]]]ef\")"
   ]
  },
  {
   "cell_type": "code",
   "execution_count": null,
   "metadata": {},
   "outputs": [],
   "source": [
    "\"3[z]2[2[y]pq4[2[jk]e1[f]]]ef\"\n",
    "\"zzzyypqfejkjkfejkjkfejkjkfejkjkyypqfejkjkfejkjkfejkjkfejkjkef\"\n",
    "\"zzzyypqjkjkefjkjkefjkjkefjkjkefyypqjkjkefjkjkefjkjkefjkjkefef\""
   ]
  }
 ]
}