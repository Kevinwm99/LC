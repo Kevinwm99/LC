{
 "metadata": {
  "language_info": {
   "codemirror_mode": {
    "name": "ipython",
    "version": 3
   },
   "file_extension": ".py",
   "mimetype": "text/x-python",
   "name": "python",
   "nbconvert_exporter": "python",
   "pygments_lexer": "ipython3",
   "version": "3.6.10-final"
  },
  "orig_nbformat": 2,
  "kernelspec": {
   "name": "Python 3.6.10 64-bit ('phu': conda)",
   "display_name": "Python 3.6.10 64-bit ('phu': conda)",
   "metadata": {
    "interpreter": {
     "hash": "93567997320a41260cba541b0b0fc558b64d7e06ab3ccf74c021b635184135f0"
    }
   }
  }
 },
 "nbformat": 4,
 "nbformat_minor": 2,
 "cells": [
  {
   "source": [
    "Design a stack that supports push, pop, top, and retrieving the minimum element in constant time.\n",
    "\n",
    "push(x) -- Push element x onto stack.\n",
    "\n",
    "pop() -- Removes the element on top of the stack.\n",
    "\n",
    "top() -- Get the top element.\n",
    "\n",
    "getMin() -- Retrieve the minimum element in the stack.\n",
    " \n",
    " \n",
    "Example 1:\n",
    "\n",
    "Input\n",
    "\\[\"MinStack\",\"push\",\"push\",\"push\",\"getMin\",\"pop\",\"top\",\"getMin\"\\]\n",
    "\\[\\[\\],\\[-2\\],\\[0\\],\\[-3\\],\\[\\],\\[\\],\\[\\],\\[\\]\\]\n",
    "\n",
    "Output\n",
    "\\[null,null,null,null,-3,null,0,-2\\]\n",
    "\n",
    "Explanation\n",
    "\n",
    "MinStack minStack = new MinStack();\n",
    "\n",
    "minStack.push(-2);\n",
    "\n",
    "minStack.push(0);\n",
    "\n",
    "minStack.push(-3);\n",
    "\n",
    "minStack.getMin(); // return -3\n",
    "\n",
    "minStack.pop();\n",
    "\n",
    "minStack.top();    // return 0\n",
    "\n",
    "minStack.getMin(); // return -2"
   ],
   "cell_type": "markdown",
   "metadata": {}
  },
  {
   "cell_type": "code",
   "execution_count": 168,
   "metadata": {},
   "outputs": [],
   "source": [
    "class MinStack:\n",
    "\n",
    "    def __init__(self):\n",
    "        \"\"\"\n",
    "        initialize your data structure here.\n",
    "        \"\"\"\n",
    "        self.minstack = [] # the min value store in the last value of the min stack\n",
    "        self.stack = []\n",
    "    def push(self, x: int) -> None:\n",
    "        if self.stack == []:\n",
    "            self.stack.append(x)\n",
    "            self.minstack.append(x)\n",
    "            return\n",
    "        if self.minstack[-1]>=x: # if x smaller than the last element in the min stack - > append to minstack\n",
    "            self.minstack.append(x)\n",
    "        self.stack.append(x)\n",
    "        return\n",
    "    def pop(self) -> None:\n",
    "        val= self.stack.pop()\n",
    "        if self.minstack[-1]==val: # if last value of min stack equal the popped value -> pop from min stack\n",
    "            self.minstack.pop()\n",
    "        if self.stack ==[]: self.minstack=[] # if no element left in the stack -> empty the minstack\n",
    "\n",
    "    def top(self) -> int:\n",
    "        return self.stack[-1]\n",
    "\n",
    "    def getMin(self) -> int:\n",
    "        return self.minstack[-1]\n",
    "        "
   ]
  }
 ]
}