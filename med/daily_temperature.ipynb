{
 "metadata": {
  "language_info": {
   "codemirror_mode": {
    "name": "ipython",
    "version": 3
   },
   "file_extension": ".py",
   "mimetype": "text/x-python",
   "name": "python",
   "nbconvert_exporter": "python",
   "pygments_lexer": "ipython3",
   "version": "3.6.12-final"
  },
  "orig_nbformat": 2,
  "kernelspec": {
   "name": "Python 3.6.12 64-bit ('phu': conda)",
   "display_name": "Python 3.6.12 64-bit ('phu': conda)",
   "metadata": {
    "interpreter": {
     "hash": "aa0237e515302894da2f41a8ca2f788ed35a3424031edda873fbe7d7784a6e07"
    }
   }
  }
 },
 "nbformat": 4,
 "nbformat_minor": 2,
 "cells": [
  {
   "source": [
    "Given a list of daily temperatures T, return a list such that, for each day in the input, tells you how many days you would have to wait until a warmer temperature. If there is no future day for which this is possible, put 0 instead.\n",
    "\n",
    "For example, given the list of temperatures T = [73, 74, 75, 71, 69, 72, 76, 73], your output should be [1, 1, 4, 2, 1, 1, 0, 0].\n",
    "\n",
    "Note: The length of temperatures will be in the range [1, 30000]. Each temperature will be an integer in the range [30, 100]."
   ],
   "cell_type": "markdown",
   "metadata": {}
  },
  {
   "cell_type": "code",
   "execution_count": 1,
   "metadata": {},
   "outputs": [],
   "source": [
    "T = [73, 74, 75, 71, 69, 72, 76, 73]"
   ]
  },
  {
   "cell_type": "code",
   "execution_count": 19,
   "metadata": {},
   "outputs": [],
   "source": [
    "res =[0]*len(T)\n",
    "stack=[]\n",
    "\n"
   ]
  },
  {
   "cell_type": "code",
   "execution_count": 25,
   "metadata": {},
   "outputs": [],
   "source": [
    "class Solution:\n",
    "    def dailyTemperatures(self, T: List[int]) -> List[int]:\n",
    "        res =[0]*len(T)\n",
    "        stack=[]\n",
    "        idx = len(T)-1\n",
    "        for n in T[::-1]:\n",
    "            \n",
    "            if stack ==[]:\n",
    "                stack.append(idx)\n",
    "            else:\n",
    "                idx =idx-1\n",
    "                while stack and n >= T[stack[-1]]:\n",
    "                    stack.pop()\n",
    "                if stack:\n",
    "                    res[idx]=stack[-1]-(idx)\n",
    "            stack.append(idx)\n",
    "        return res"
   ]
  },
  {
   "cell_type": "code",
   "execution_count": 26,
   "metadata": {},
   "outputs": [
    {
     "output_type": "execute_result",
     "data": {
      "text/plain": [
       "[1, 1, 4, 2, 1, 1, 0, 0]"
      ]
     },
     "metadata": {},
     "execution_count": 26
    }
   ],
   "source": [
    "res"
   ]
  }
 ]
}