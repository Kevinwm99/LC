{
 "metadata": {
  "language_info": {
   "codemirror_mode": {
    "name": "ipython",
    "version": 3
   },
   "file_extension": ".py",
   "mimetype": "text/x-python",
   "name": "python",
   "nbconvert_exporter": "python",
   "pygments_lexer": "ipython3",
   "version": "3.6.10-final"
  },
  "orig_nbformat": 2,
  "kernelspec": {
   "name": "Python 3.6.10 64-bit ('phu': conda)",
   "display_name": "Python 3.6.10 64-bit ('phu': conda)",
   "metadata": {
    "interpreter": {
     "hash": "93567997320a41260cba541b0b0fc558b64d7e06ab3ccf74c021b635184135f0"
    }
   }
  }
 },
 "nbformat": 4,
 "nbformat_minor": 2,
 "cells": [
  {
   "source": [
    "Given a string s containing just the characters '(', ')', '{', '}', '\\[' and '\\]', determine if the input string is valid.\n",
    "\n",
    "An input string is valid if:\n",
    "\n",
    "Open brackets must be closed by the same type of brackets.\n",
    "Open brackets must be closed in the correct order.\n",
    " \n",
    "\n",
    "Example 1:\n",
    "\n",
    "Input: s = \"()\"\n",
    "Output: true\n",
    "\n",
    "Example 2:\n",
    "\n",
    "Input: s = \"()\\[\\]{}\"\n",
    "Output: true\n",
    "\n",
    "Example 3:\n",
    "\n",
    "Input: s = \"(]\"\n",
    "Output: false\n",
    "\n",
    "Example 4:\n",
    "\n",
    "Input: s = \"(\\[)]\"\n",
    "Output: false\n",
    "\n",
    "Example 5:\n",
    "\n",
    "Input: s = \"{[]}\"\n",
    "Output: true\n",
    " \n",
    "\n",
    "Constraints:\n",
    "\n",
    "1 <= s.length <= 104\n",
    "\n",
    "s consists of parentheses only '()\\[\\]{}'."
   ],
   "cell_type": "markdown",
   "metadata": {}
  },
  {
   "cell_type": "code",
   "execution_count": 37,
   "metadata": {},
   "outputs": [],
   "source": [
    "def valid_paren(s:str)->bool:\n",
    "    stack = []\n",
    "    open_symbols = ['[','(','{']\n",
    "    close_symbols = [']',')','}']\n",
    "    for ch in s:\n",
    "        if ch in symbols:\n",
    "            stack.append(ch)\n",
    "        else:\n",
    "            if ch in close_symbols:\n",
    "                if stack==[]:\n",
    "                    return False\n",
    "                else:\n",
    "                    if not match(ch,stack.pop()):return False\n",
    "    if stack == []:return True\n",
    "    else: return False\n",
    "def match(ch1:str,ch2:str)->bool:\n",
    "    if ch1 == ']' and ch2 == '[':return True\n",
    "    if ch1 == ')' and ch2 == '(':return True\n",
    "    if ch1 == '}' and ch2 == '{':return True\n",
    "    return False\n",
    "    "
   ]
  },
  {
   "cell_type": "code",
   "execution_count": 38,
   "metadata": {},
   "outputs": [
    {
     "output_type": "execute_result",
     "data": {
      "text/plain": [
       "True"
      ]
     },
     "metadata": {},
     "execution_count": 38
    }
   ],
   "source": [
    "s =\"1211()\"\n",
    "valid_paren(s)"
   ]
  },
  {
   "cell_type": "code",
   "execution_count": 28,
   "metadata": {},
   "outputs": [
    {
     "output_type": "execute_result",
     "data": {
      "text/plain": [
       "True"
      ]
     },
     "metadata": {},
     "execution_count": 28
    }
   ],
   "source": [
    "not match(\"(\",'(')"
   ]
  },
  {
   "cell_type": "code",
   "execution_count": 2,
   "metadata": {},
   "outputs": [
    {
     "output_type": "stream",
     "name": "stdout",
     "text": [
      "[\n(\n{\n"
     ]
    }
   ],
   "source": [
    "symbols = ['[','(','{']\n",
    "for s in symbols:\n",
    "    print(s)"
   ]
  }
 ]
}