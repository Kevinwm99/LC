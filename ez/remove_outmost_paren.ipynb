{
 "metadata": {
  "language_info": {
   "codemirror_mode": {
    "name": "ipython",
    "version": 3
   },
   "file_extension": ".py",
   "mimetype": "text/x-python",
   "name": "python",
   "nbconvert_exporter": "python",
   "pygments_lexer": "ipython3",
   "version": "3.6.12-final"
  },
  "orig_nbformat": 2,
  "kernelspec": {
   "name": "Python 3.6.12 64-bit ('phu': conda)",
   "display_name": "Python 3.6.12 64-bit ('phu': conda)",
   "metadata": {
    "interpreter": {
     "hash": "aa0237e515302894da2f41a8ca2f788ed35a3424031edda873fbe7d7784a6e07"
    }
   }
  }
 },
 "nbformat": 4,
 "nbformat_minor": 2,
 "cells": [
  {
   "source": [
    "A valid parentheses string is either empty (\"\"), \"(\" + A + \")\", or A + B, where A and B are valid parentheses strings, and + represents string concatenation.\n",
    "\n",
    "  For example, \"\", \"()\", \"(())()\", and \"(()(()))\" are all valid parentheses strings.\n",
    "\n",
    "\n",
    "A valid parentheses string S is primitive if it is nonempty, and there does not exist a way to split it into S = A+B, with A and B nonempty valid parentheses strings.\n",
    "\n",
    "Given a valid parentheses string S, consider its primitive decomposition: S = P_1 + P_2 + ... + P_k, where P_i are primitive valid parentheses strings.\n",
    "\n",
    "Return S after removing the outermost parentheses of every primitive string in the primitive decomposition of S.\n",
    "\n",
    " \n",
    "\n",
    "Example 1:\n",
    "\n",
    "Input: \"(()())(())\"\n",
    "Output: \"()()()\"\n",
    "\n",
    "Explanation: \n",
    "The input string is \"(()())(())\", with primitive decomposition \"(()())\" + \"(())\".\n",
    "After removing outer parentheses of each part, this is \"()()\" + \"()\" = \"()()()\".\n",
    "\n",
    "Example 2:\n",
    "\n",
    "\n",
    "Input: \"(()())(())(()(()))\"\n",
    "\n",
    "Output: \"()()()()(())\"\n",
    "\n",
    "Explanation: \n",
    "The input string is \"(()())(())(()(()))\", with primitive decomposition \"(()())\" + \"(())\" + \"(()(()))\".\n",
    "\n",
    "After removing outer parentheses of each part, this is \"()()\" + \"()\" + \"()(())\" = \"()()()()(())\".\n",
    "\n",
    "Example 3:\n",
    "\n",
    "Input: \"()()\"\n",
    "\n",
    "Output: \"\"\n",
    "\n",
    "\n",
    "Explanation: \n",
    "\n",
    "The input string is \"()()\", with primitive decomposition \"()\" + \"()\".\n",
    "\n",
    "After removing outer parentheses of each part, this is \"\" + \"\" = \"\".\n",
    "\n",
    " \n",
    "\n",
    "Note:\n",
    "\n",
    "S.length <= 10000\n",
    "\n",
    "S[i] is \"(\" or \")\"\n",
    "\n",
    "S is a valid parentheses string"
   ],
   "cell_type": "markdown",
   "metadata": {}
  },
  {
   "cell_type": "code",
   "execution_count": 14,
   "metadata": {},
   "outputs": [],
   "source": [
    "# inp = list(\"(()())(())(()(()))\") # -> ()(())\n",
    "inp = list(\"(()())(())\")\n",
    "inp = list(\"()()\")"
   ]
  },
  {
   "cell_type": "code",
   "execution_count": 105,
   "metadata": {},
   "outputs": [],
   "source": [
    "res=[]"
   ]
  },
  {
   "cell_type": "code",
   "execution_count": 17,
   "metadata": {},
   "outputs": [],
   "source": [
    "def removeOuterParentheses(s):\n",
    "    c =0 # this value is for store the paren or not\n",
    "    stack = [] # stack to store result\n",
    "    for i in list(s):   \n",
    "        if i == '(': \n",
    "            c+=1\n",
    "            if c >1:stack.append(i) \n",
    "        if i ==')':\n",
    "            if c>1: # there is at least one ( in the stack\n",
    "                c-=1\n",
    "                stack.append(i)\n",
    "                continue\n",
    "            if c == 1: # there are two cases: already remove the outmost \n",
    "                        # and there is no ( in the stack\n",
    "                try: # if pop success, there are two cases: ( or ) in the stack\n",
    "                    val = stack.pop()\n",
    "                    if i == val: # the value is )\n",
    "                        stack.append(val) # append back the value and don't append ) to the result, decrease c and continue\n",
    "                        c-=1\n",
    "                        continue\n",
    "                    else:  # the value is (\n",
    "                        stack.append(val) # append back and append the new value, decrease\n",
    "                        stack.append(i)\n",
    "                        c-=1\n",
    "                except: # the stack is empty or this is the case () at the beginning of the string\n",
    "                    c-=1\n",
    "    print(stack)\n",
    "    return ''.join(stack)"
   ]
  },
  {
   "cell_type": "code",
   "execution_count": 18,
   "metadata": {},
   "outputs": [
    {
     "output_type": "stream",
     "name": "stdout",
     "text": [
      "[]\n"
     ]
    },
    {
     "output_type": "execute_result",
     "data": {
      "text/plain": [
       "''"
      ]
     },
     "metadata": {},
     "execution_count": 18
    }
   ],
   "source": [
    "removeOuterParentheses(inp)"
   ]
  }
 ]
}