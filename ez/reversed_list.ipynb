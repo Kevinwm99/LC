{
 "metadata": {
  "language_info": {
   "codemirror_mode": {
    "name": "ipython",
    "version": 3
   },
   "file_extension": ".py",
   "mimetype": "text/x-python",
   "name": "python",
   "nbconvert_exporter": "python",
   "pygments_lexer": "ipython3",
   "version": "3.6.10-final"
  },
  "orig_nbformat": 2,
  "kernelspec": {
   "name": "Python 3.6.10 64-bit",
   "display_name": "Python 3.6.10 64-bit",
   "metadata": {
    "interpreter": {
     "hash": "93567997320a41260cba541b0b0fc558b64d7e06ab3ccf74c021b635184135f0"
    }
   }
  }
 },
 "nbformat": 4,
 "nbformat_minor": 2,
 "cells": [
  {
   "cell_type": "code",
   "execution_count": 16,
   "metadata": {},
   "outputs": [],
   "source": [
    "from Collections import Doubly_linked_list"
   ]
  },
  {
   "cell_type": "code",
   "execution_count": 32,
   "metadata": {},
   "outputs": [],
   "source": [
    "p = Doubly_linked_list()\n",
    "p.pushBack(1)\n",
    "p.pushBack(2)\n",
    "p.pushBack(3)\n",
    "p.pushBack(4)\n",
    "p.pushBack(5)\n",
    "p.pushBack(6)"
   ]
  },
  {
   "cell_type": "code",
   "execution_count": 25,
   "metadata": {},
   "outputs": [
    {
     "output_type": "stream",
     "name": "stdout",
     "text": [
      "head\n1\n2\n3\n4\n5\n6\ntail\n"
     ]
    }
   ],
   "source": [
    "p.print_list()"
   ]
  },
  {
   "cell_type": "code",
   "execution_count": 18,
   "metadata": {},
   "outputs": [],
   "source": [
    "next_node  = p.head\n",
    "lst = []\n",
    "while next_node is not None:\n",
    "    lst.append(next_node)\n",
    "    next_node = next_node.next\n",
    "l = len(lst)-1\n",
    "for i in lst[::-1]:\n",
    "    if l>=0:\n",
    "        i.next = lst[l-1]\n",
    "        l=l-1\n",
    "# return lst[-1]"
   ]
  },
  {
   "cell_type": "code",
   "execution_count": 33,
   "metadata": {},
   "outputs": [],
   "source": [
    "next_node = p.head\n",
    "prev= None\n",
    "while next_node:\n",
    "    temp_node = next_node.next\n",
    "    next_node.next = prev\n",
    "    prev = next_node\n",
    "    next_node = temp_node"
   ]
  },
  {
   "cell_type": "code",
   "execution_count": 34,
   "metadata": {},
   "outputs": [
    {
     "output_type": "error",
     "ename": "AttributeError",
     "evalue": "'NoneType' object has no attribute 'key'",
     "traceback": [
      "\u001b[1;31m---------------------------------------------------------------------------\u001b[0m",
      "\u001b[1;31mAttributeError\u001b[0m                            Traceback (most recent call last)",
      "\u001b[1;32m<ipython-input-34-16915a51f288>\u001b[0m in \u001b[0;36m<module>\u001b[1;34m\u001b[0m\n\u001b[1;32m----> 1\u001b[1;33m \u001b[0mnext_node\u001b[0m\u001b[1;33m.\u001b[0m\u001b[0mkey\u001b[0m\u001b[1;33m\u001b[0m\u001b[1;33m\u001b[0m\u001b[0m\n\u001b[0m",
      "\u001b[1;31mAttributeError\u001b[0m: 'NoneType' object has no attribute 'key'"
     ]
    }
   ],
   "source": [
    "next_node.key"
   ]
  }
 ]
}